{
 "cells": [
  {
   "cell_type": "markdown",
   "metadata": {},
   "source": [
    "# Deep Learning: Ex.3 - ConvNets\n",
    "\n",
    "Submitted by: [... **name & ID** ...]\n"
   ]
  },
  {
   "cell_type": "code",
   "execution_count": null,
   "metadata": {},
   "outputs": [],
   "source": [
    "# TensorFlow and tf.keras\n",
    "import tensorflow as tf\n",
    "from tensorflow.keras.models import Sequential\n",
    "from tensorflow.keras.layers import Dense,Flatten,Conv2D,MaxPooling2D\n",
    "\n",
    "# Helper libraries\n",
    "import numpy as np\n",
    "import matplotlib.pyplot as plt\n",
    "\n",
    "from sklearn.metrics import confusion_matrix\n",
    "from seaborn import heatmap \n",
    "\n",
    "print(tf.__version__)"
   ]
  },
  {
   "cell_type": "markdown",
   "metadata": {},
   "source": [
    "### Load the CIFAR-10 Dataset\n",
    "\n",
    "When running this command for the first time, it will download dataset from a remote server, which might take some time.. (in case of server error - just try again a bit later)"
   ]
  },
  {
   "cell_type": "code",
   "execution_count": null,
   "metadata": {},
   "outputs": [],
   "source": [
    "# 1. load/download the data\n",
    "(train_images, train_labels), (test_images, test_labels) = tf.keras.datasets.cifar10.load_data()\n",
    "\n",
    "# 2. flatten the labels (easier to deal with)\n",
    "train_labels = train_labels.flatten()  # (50000, 1) -> (50000,)\n",
    "test_labels = test_labels.flatten()    # (10000, 1) -> (10000,)\n",
    "\n",
    "# 3. convert uint8->float32 and normalize range to 0.0-1.0 \n",
    "train_images = train_images.astype('float32') / 255.0\n",
    "test_images = test_images.astype('float32') / 255.0\n",
    "\n",
    "# 4. define the 10 classes names\n",
    "class_names = ['airplane', 'automobile', 'bird', 'cat', 'deer','dog', 'frog', 'horse', 'ship', 'truck']\n",
    "\n",
    "# 5. print the shapes\n",
    "print('train_images.shape =',train_images.shape)\n",
    "print('train_labels.shape =',train_labels.shape)\n",
    "print('test_images.shape =',test_images.shape)\n",
    "print('test_labels.shape =',test_labels.shape)\n",
    "\n"
   ]
  },
  {
   "cell_type": "markdown",
   "metadata": {},
   "source": [
    "*** \n",
    "General instructions:\n",
    "\n",
    "- For each model, the input layer is the images (after flatten it to long vector), and the output layer is a `softmax` of 10 units (one unit for each class).\n",
    "\n",
    "- Display the `model.summary()` for each model.\n",
    "\n",
    "- Train each model for **50 epochs** (use: `batch_size=64` and `verbose=0`).\n",
    "\n",
    "- For each model, **plot the training and testing: loss and accuracy**.\n",
    "\n",
    "- For each model, **plot the confusion matrix** (using the validation data)\n",
    "\n",
    "- Summarize the results of all models (for both datasets) in the table below (by editing this markup cell):\n",
    "\n",
    "(don't forget to turn on the GPU in Google Colab...)\n",
    "\n",
    "\n",
    "<table>\n",
    "  <tr>\n",
    "    <th>Model</th>\n",
    "    <th>#parameters</th>\n",
    "    <th>train accuracy</th>\n",
    "    <th>test accuracy</th>\n",
    "  </tr>\n",
    "    \n",
    "  <!-- copy this block once for every model/dataset you tested -->  \n",
    "  <tr> \n",
    "    <td>0-hidden</td>   <!-- Model -->\n",
    "    <td>??? </td> <!-- #parameters -->\n",
    "    <td>???</td> <!-- train accuracy -->\n",
    "    <td>???</td> <!-- test accuracy -->\n",
    "  </tr>\n",
    "    \n",
    " \n",
    "</table>\n",
    "\n",
    "---\n",
    "\n",
    "\n"
   ]
  },
  {
   "cell_type": "markdown",
   "metadata": {},
   "source": [
    "***\n",
    "### 1. No hidden layers\n",
    "\n",
    "Just connect all inputs directly to the output layer (always remember to add a `Flatten` layer before using a `Dense` layer)\n"
   ]
  },
  {
   "cell_type": "code",
   "execution_count": null,
   "metadata": {},
   "outputs": [],
   "source": [
    "    ###########################\n",
    "    ###  your code here...  ###\n",
    "    ###########################"
   ]
  },
  {
   "cell_type": "markdown",
   "metadata": {},
   "source": [
    "***\n",
    "### 2. Simple ConvNet\n",
    "\n",
    "Use 32 kernels (3x3, Conv2D), followed by additional 100-Dense layer.\n"
   ]
  },
  {
   "cell_type": "code",
   "execution_count": null,
   "metadata": {},
   "outputs": [],
   "source": [
    "    ###########################\n",
    "    ###  your code here...  ###\n",
    "    ###########################"
   ]
  },
  {
   "cell_type": "markdown",
   "metadata": {},
   "source": [
    "***\n",
    "### 3. Deeper ConvNet\n",
    "\n",
    "Apply the following layers (between the input and output layers):\n",
    "- 32 3x3-`Conv2D` + 2x2 `MaxPooling`\n",
    "- 64 3x3-`Conv2D` + 2x2 `MaxPooling`\n",
    "- 128 3x3-`Conv2D` + 2x2 `MaxPooling`\n",
    "- 128-`Dense`\n",
    "\n",
    "Use `padding='same'` in the Conv2D layers."
   ]
  },
  {
   "cell_type": "code",
   "execution_count": null,
   "metadata": {},
   "outputs": [],
   "source": [
    "    ###########################\n",
    "    ###  your code here...  ###\n",
    "    ###########################"
   ]
  },
  {
   "cell_type": "markdown",
   "metadata": {},
   "source": [
    "***\n",
    "### 4. Try your own ideas\n",
    "\n",
    "- Try to come up with your own architecture to get a better results, and test it.\n",
    "\n",
    "- What do you think limits our validation accuracy?"
   ]
  },
  {
   "cell_type": "code",
   "execution_count": null,
   "metadata": {},
   "outputs": [],
   "source": [
    "    ###########################\n",
    "    ###  your code here...  ###\n",
    "    ###########################"
   ]
  },
  {
   "cell_type": "markdown",
   "metadata": {},
   "source": [
    "***\n",
    "## Good Luck!\n",
    "- **don't forget to fill the summary table on the top !!**\n"
   ]
  }
 ],
 "metadata": {
  "kernelspec": {
   "display_name": "Python 3",
   "language": "python",
   "name": "python3"
  },
  "language_info": {
   "codemirror_mode": {
    "name": "ipython",
    "version": 3
   },
   "file_extension": ".py",
   "mimetype": "text/x-python",
   "name": "python",
   "nbconvert_exporter": "python",
   "pygments_lexer": "ipython3",
   "version": "3.8.8"
  }
 },
 "nbformat": 4,
 "nbformat_minor": 4
}
