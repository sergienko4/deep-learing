{
 "cells": [
  {
   "cell_type": "markdown",
   "metadata": {},
   "source": [
    "# Deep Learning: Ex.10 - RNN\n",
    "\n",
    "Submitted by: [... **your name and ID** ...]\n"
   ]
  },
  {
   "cell_type": "code",
   "execution_count": null,
   "metadata": {},
   "outputs": [],
   "source": [
    "# TensorFlow and tf.keras\n",
    "import tensorflow as tf\n",
    "from tensorflow.keras.models import Sequential, Model\n",
    "from tensorflow.keras.layers import Dense, Dropout, Activation, Flatten, Input\n",
    "from tensorflow.keras.layers import SimpleRNN, LSTM # <--- recurrent layers\n",
    "\n",
    "# Helper libraries\n",
    "import numpy as np\n",
    "import matplotlib.pyplot as plt\n",
    "from seaborn import heatmap\n",
    "\n",
    "print(tf.__version__)"
   ]
  },
  {
   "cell_type": "markdown",
   "metadata": {},
   "source": [
    "***\n",
    "### 1. Preprocess the text corpus\n",
    "\n",
    "(if you are using google colab, remember to upload the corpus file first..)"
   ]
  },
  {
   "cell_type": "code",
   "execution_count": null,
   "metadata": {},
   "outputs": [],
   "source": [
    "f = open('war_and_peace.txt','r') # open the corpus file\n",
    "\n",
    "text = f.read().lower()  # read file and convert to lower-case letters\n",
    "\n",
    "print('len(text) = ',len(text))\n",
    "\n",
    "print(text[:400]) # print the first 400 characters.."
   ]
  },
  {
   "cell_type": "markdown",
   "metadata": {},
   "source": [
    "- generate training sequences of `T=20` characters, by sampling the text corpus with a stride of 5 characters (i.e., each sequences starts 5 chars after the begining of the last sequences).\n",
    "\n",
    "- generate a matching list, holding the `next_char` for each of your sequences.\n",
    "\n",
    "- how many sequences did you extract in total? `N = ?`\n",
    "\n",
    "- convert the sequences into a 1-hot representation, suitable for our model trainig:\n",
    "\n",
    "`X.shape = (N, T, len(chars))`\n",
    "\n",
    "`Y.shape = (N, len(chars))`"
   ]
  },
  {
   "cell_type": "code",
   "execution_count": null,
   "metadata": {},
   "outputs": [],
   "source": [
    "    ###########################\n",
    "    ###  your code here...  ###\n",
    "    ###########################"
   ]
  },
  {
   "cell_type": "markdown",
   "metadata": {},
   "source": [
    "***\n",
    "### 2. LTSM Model\n",
    "\n",
    "- Build an `LTSM` model with 128 (hidden)-units that accepts the input sequences. Add a `Dense` layer on top of it, with `len(chars)` softmax units.\n",
    "\n",
    "- Train the model for only 1 epoch (use: `RMSprop` and batch size of 128).\n",
    "\n"
   ]
  },
  {
   "cell_type": "code",
   "execution_count": null,
   "metadata": {},
   "outputs": [],
   "source": [
    "    ###########################\n",
    "    ###  your code here...  ###\n",
    "    ###########################"
   ]
  },
  {
   "cell_type": "markdown",
   "metadata": {},
   "source": [
    "### 3. Model predictions\n",
    "\n",
    "\n",
    "- use the senternce `the meaning of life ` as an input to the model (convert it to 1-hot first..),\n",
    "\n",
    "- plot the model's output as a probability distribution over the list of chars.\n",
    "\n",
    "- sample a single char from that distribution, and add it to the generated sentence.\n",
    "\n",
    "- update the 1-hot buffer, and continue the process for 99 more letters (using a loop).\n",
    "\n",
    "- print the resulting sentence."
   ]
  },
  {
   "cell_type": "code",
   "execution_count": null,
   "metadata": {},
   "outputs": [],
   "source": [
    "    ###########################\n",
    "    ###  your code here...  ###\n",
    "    ###########################"
   ]
  },
  {
   "cell_type": "markdown",
   "metadata": {},
   "source": [
    "***\n",
    "### 3. Fit your model\n",
    "\n",
    "- Fit your model a bit more (try 10-20 epochs), and regenerate a new `N=100` sentence sample. Does it get any better?\n",
    "\n",
    "- If you wish, you can try to train the model further, or you can try using a different corpus (dataset) for the training (you can even try a text in hebrew). Be creative ;)"
   ]
  },
  {
   "cell_type": "code",
   "execution_count": null,
   "metadata": {},
   "outputs": [],
   "source": [
    "    ###########################\n",
    "    ###  your code here...  ###\n",
    "    ###########################"
   ]
  },
  {
   "cell_type": "markdown",
   "metadata": {},
   "source": [
    "***\n",
    "## Good Luck!"
   ]
  }
 ],
 "metadata": {
  "kernelspec": {
   "display_name": "Python 3",
   "language": "python",
   "name": "python3"
  },
  "language_info": {
   "codemirror_mode": {
    "name": "ipython",
    "version": 3
   },
   "file_extension": ".py",
   "mimetype": "text/x-python",
   "name": "python",
   "nbconvert_exporter": "python",
   "pygments_lexer": "ipython3",
   "version": "3.7.10"
  }
 },
 "nbformat": 4,
 "nbformat_minor": 4
}
